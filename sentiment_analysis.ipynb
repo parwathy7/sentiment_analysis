{
  "nbformat": 4,
  "nbformat_minor": 0,
  "metadata": {
    "colab": {
      "provenance": []
    },
    "kernelspec": {
      "name": "python3",
      "display_name": "Python 3"
    },
    "language_info": {
      "name": "python"
    }
  },
  "cells": [
    {
      "cell_type": "markdown",
      "source": [
        " Sentiment Analysis of Product Reviews\n",
        "\n",
        "Let's consider an example where we want to perform sentiment analysis on product reviews for a mobile phone"
      ],
      "metadata": {
        "id": "M-Ia-47pXjjm"
      }
    },
    {
      "cell_type": "markdown",
      "source": [
        " Step 1: Data Collection\n",
        "We collect product reviews from an online marketplace or social media platform. Each review is associated with a star rating (1 to 5) indicating the sentiment."
      ],
      "metadata": {
        "id": "nok83DchXmjs"
      }
    },
    {
      "cell_type": "markdown",
      "source": [
        "Step 2: Data Preprocessing\n",
        "We preprocess the text data by removing special characters, converting text to lowercase, and removing stopwords."
      ],
      "metadata": {
        "id": "cI9TjCqeXtG0"
      }
    },
    {
      "cell_type": "code",
      "source": [
        "import nltk\n",
        "nltk.download('punkt')\n",
        "nltk.download('stopwords')\n"
      ],
      "metadata": {
        "colab": {
          "base_uri": "https://localhost:8080/"
        },
        "id": "GBu5EqkJX6sk",
        "outputId": "9803d5c4-2af9-4d20-fbc3-602a6dc406fc"
      },
      "execution_count": 4,
      "outputs": [
        {
          "output_type": "stream",
          "name": "stderr",
          "text": [
            "[nltk_data] Downloading package punkt to /root/nltk_data...\n",
            "[nltk_data]   Package punkt is already up-to-date!\n",
            "[nltk_data] Downloading package stopwords to /root/nltk_data...\n",
            "[nltk_data]   Unzipping corpora/stopwords.zip.\n"
          ]
        },
        {
          "output_type": "execute_result",
          "data": {
            "text/plain": [
              "True"
            ]
          },
          "metadata": {},
          "execution_count": 4
        }
      ]
    },
    {
      "cell_type": "code",
      "execution_count": 5,
      "metadata": {
        "id": "SIQTTRpjXVEt"
      },
      "outputs": [],
      "source": [
        "import nltk\n",
        "from nltk.corpus import stopwords\n",
        "import string\n",
        "\n",
        "# Sample product reviews\n",
        "reviews = [\n",
        "    \"This phone is amazing! I love it.\",\n",
        "    \"The battery life is terrible. Very disappointed.\",\n",
        "    \"Great phone, excellent camera quality.\",\n",
        "    \"The worst phone I've ever used. Avoid!\",\n",
        "    \"Overall, a decent phone for the price.\"\n",
        "]\n",
        "\n",
        "# Convert text to lowercase\n",
        "reviews = [review.lower() for review in reviews]\n",
        "\n",
        "# Remove punctuation\n",
        "translator = str.maketrans('', '', string.punctuation)\n",
        "reviews = [review.translate(translator) for review in reviews]\n",
        "\n",
        "# Tokenize the reviews\n",
        "tokenized_reviews = [nltk.word_tokenize(review) for review in reviews]\n",
        "\n",
        "# Remove stopwords\n",
        "stop_words = set(stopwords.words('english'))\n",
        "filtered_reviews = [[word for word in review if word not in stop_words] for review in tokenized_reviews]\n"
      ]
    },
    {
      "cell_type": "markdown",
      "source": [
        "Step 3: Labeling\n",
        "The star ratings are already provided as sentiment labels in the dataset.\n",
        "\n",
        "Step 4: Model Training\n",
        "We use Scikit-learn to train a simple Naive Bayes classifier on the preprocessed data."
      ],
      "metadata": {
        "id": "Q2Qrl6ToYHSH"
      }
    },
    {
      "cell_type": "code",
      "source": [
        "from sklearn.model_selection import train_test_split\n",
        "from sklearn.naive_bayes import MultinomialNB\n",
        "from sklearn.metrics import accuracy_score\n",
        "from sklearn.feature_extraction.text import CountVectorizer\n",
        "\n",
        "# Sample product reviews\n",
        "product_reviews = [\n",
        "    \"The phone is overall decent for the price.\",\n",
        "    \"This phone has a great camera and excellent quality.\",\n",
        "    \"I love this phone; it's amazing!\",\n",
        "    \"Avoid this phone; it's the worst I've ever used.\"\n",
        "]\n",
        "\n",
        "# Sample sentiment labels (star ratings): 1 to 5\n",
        "star_ratings = [3, 5, 4, 1]\n",
        "\n",
        "# Convert star ratings to binary sentiment labels (positive or negative)\n",
        "binary_labels = [1 if rating >= 3 else 0 for rating in star_ratings]\n",
        "\n",
        "# Preprocess the data: Tokenization and Lowercasing\n",
        "tokenized_reviews = [review.lower().split() for review in product_reviews]\n",
        "\n",
        "# Convert the tokenized_reviews into a bag-of-words representation using CountVectorizer\n",
        "vectorizer = CountVectorizer()\n",
        "X = vectorizer.fit_transform([' '.join(review) for review in tokenized_reviews])\n",
        "\n",
        "# Split the data into training and test sets\n",
        "X_train, X_test, y_train, y_test = train_test_split(X, binary_labels, test_size=0.2, random_state=42)\n",
        "\n",
        "# Create and train the Naive Bayes classifier\n",
        "classifier = MultinomialNB()\n",
        "classifier.fit(X_train, y_train)\n",
        "\n",
        "# Make predictions on the test set\n",
        "y_pred = classifier.predict(X_test)\n",
        "\n",
        "# Calculate accuracy\n",
        "accuracy = accuracy_score(y_test, y_pred)\n",
        "print(\"Accuracy:\", accuracy)\n"
      ],
      "metadata": {
        "colab": {
          "base_uri": "https://localhost:8080/"
        },
        "id": "laCYRFTwXxrT",
        "outputId": "e947fb59-606e-44f0-d97d-8ac5d1a4c140"
      },
      "execution_count": 7,
      "outputs": [
        {
          "output_type": "stream",
          "name": "stdout",
          "text": [
            "Accuracy: 1.0\n"
          ]
        }
      ]
    },
    {
      "cell_type": "markdown",
      "source": [
        "Step 5: Real-time Sentiment Analysis\n",
        "We implement the trained model to perform sentiment analysis on new product reviews."
      ],
      "metadata": {
        "id": "HdeYrxk9YwmW"
      }
    },
    {
      "cell_type": "code",
      "source": [
        "from sklearn.feature_extraction.text import CountVectorizer\n",
        "from sklearn.naive_bayes import MultinomialNB\n",
        "import nltk\n",
        "from nltk.corpus import stopwords\n",
        "import string\n",
        "\n",
        "# Sample product reviews and their corresponding star ratings (sentiment labels)\n",
        "product_reviews = [\n",
        "    \"The phone is overall decent for the price.\",\n",
        "    \"This phone has a great camera and excellent quality.\",\n",
        "    \"I love this phone; it's amazing!\",\n",
        "    \"Avoid this phone; it's the worst I've ever used.\"\n",
        "]\n",
        "\n",
        "star_ratings = [3, 5, 4, 1]\n",
        "\n",
        "# Convert star ratings to binary sentiment labels (positive or negative)\n",
        "binary_labels = [1 if rating >= 3 else 0 for rating in star_ratings]\n",
        "\n",
        "# Preprocess the data: Tokenization and Lowercasing\n",
        "tokenized_reviews = [review.lower().split() for review in product_reviews]\n",
        "\n",
        "# Convert the tokenized_reviews into a bag-of-words representation using CountVectorizer\n",
        "vectorizer = CountVectorizer()\n",
        "X = vectorizer.fit_transform([' '.join(review) for review in tokenized_reviews])\n",
        "\n",
        "# Create and train the Naive Bayes classifier\n",
        "classifier = MultinomialNB()\n",
        "classifier.fit(X, binary_labels)\n",
        "\n",
        "# Define the stopwords and punctuation to be removed\n",
        "stop_words = set(stopwords.words('english'))\n",
        "translator = str.maketrans('', '', string.punctuation)\n",
        "\n",
        "# Function to perform sentiment analysis on a new review\n",
        "def perform_sentiment_analysis(review):\n",
        "    # Preprocess the review: Tokenization, Lowercasing, Stopword Removal, and Punctuation Removal\n",
        "    review = review.lower().translate(translator)\n",
        "    tokens = nltk.word_tokenize(review)\n",
        "    filtered_tokens = [word for word in tokens if word not in stop_words]\n",
        "\n",
        "    # Convert the filtered_tokens into a bag-of-words representation using the same vectorizer\n",
        "    new_review_vectorized = vectorizer.transform([' '.join(filtered_tokens)])\n",
        "\n",
        "    # Predict the sentiment using the trained classifier\n",
        "    prediction = classifier.predict(new_review_vectorized)[0]\n",
        "\n",
        "    # Return sentiment label\n",
        "    return \"Positive\" if prediction == 1 else \"Negative\"\n",
        "\n",
        "# Test the sentiment analysis function\n",
        "new_review = \"I'm very happy with the phone's performance.\"\n",
        "sentiment = perform_sentiment_analysis(new_review)\n",
        "print(\"Sentiment:\", sentiment)\n",
        "\n"
      ],
      "metadata": {
        "colab": {
          "base_uri": "https://localhost:8080/"
        },
        "id": "JQepAMmOYXtw",
        "outputId": "045bbc28-0503-4572-c4a9-97809da52624"
      },
      "execution_count": 9,
      "outputs": [
        {
          "output_type": "stream",
          "name": "stdout",
          "text": [
            "Sentiment: Positive\n"
          ]
        }
      ]
    },
    {
      "cell_type": "markdown",
      "source": [
        "\n",
        "Step 6: Data Visualization using Power BI\n",
        "After performing sentiment analysis on the reviews, we can use Power BI to visualize the overall sentiment distribution and create interactive dashboards."
      ],
      "metadata": {
        "id": "WE88x11jZJvo"
      }
    },
    {
      "cell_type": "code",
      "source": [
        "import pandas as pd\n",
        "\n",
        "# Sample product reviews and their corresponding sentiment labels (positive or negative)\n",
        "product_reviews = [\n",
        "    \"The phone is overall decent for the price.\",\n",
        "    \"This phone has a great camera and excellent quality.\",\n",
        "    \"I love this phone; it's amazing!\",\n",
        "    \"Avoid this phone; it's the worst I've ever used.\"\n",
        "]\n",
        "\n",
        "star_ratings = [3, 5, 4, 1]\n",
        "\n",
        "# Convert star ratings to binary sentiment labels (positive or negative)\n",
        "binary_labels = ['Positive' if rating >= 3 else 'Negative' for rating in star_ratings]\n",
        "\n",
        "# Create a DataFrame with product_reviews and their corresponding sentiment labels\n",
        "df = pd.DataFrame({'Review': product_reviews, 'Sentiment': binary_labels})\n",
        "\n",
        "# Save the DataFrame to a CSV file\n",
        "df.to_csv('sentiment_analysis_results.csv', index=False)\n"
      ],
      "metadata": {
        "id": "b2H7MX-gYz7X"
      },
      "execution_count": 10,
      "outputs": []
    },
    {
      "cell_type": "markdown",
      "source": [
        "Visualization"
      ],
      "metadata": {
        "id": "BGP3GrmOfo2R"
      }
    },
    {
      "cell_type": "code",
      "source": [
        "import matplotlib.pyplot as plt\n",
        "import numpy as np\n",
        "\n",
        "# Test the sentiment analysis function for all product reviews\n",
        "sentiments = [perform_sentiment_analysis(review) for review in product_reviews]\n",
        "\n",
        "# Count the number of positive and negative sentiments\n",
        "positive_count = sentiments.count('Positive')\n",
        "negative_count = sentiments.count('Negative')\n",
        "\n",
        "# Data for visualization\n",
        "sentiments_labels = ['Positive', 'Negative']\n",
        "sentiments_counts = [positive_count, negative_count]\n",
        "\n",
        "# Create a bar plot\n",
        "plt.bar(sentiments_labels, sentiments_counts, color=['green', 'red'])\n",
        "plt.xlabel('Sentiment')\n",
        "plt.ylabel('Count')\n",
        "plt.title('Sentiment Distribution of Product Reviews')\n",
        "plt.show()\n"
      ],
      "metadata": {
        "colab": {
          "base_uri": "https://localhost:8080/",
          "height": 472
        },
        "id": "dDKiCYU8Zc6U",
        "outputId": "be499a58-0656-4f57-ffd4-520419e3bd34"
      },
      "execution_count": 11,
      "outputs": [
        {
          "output_type": "display_data",
          "data": {
            "text/plain": [
              "<Figure size 640x480 with 1 Axes>"
            ],
            "image/png": "[encoded data removed]"
          },
          "metadata": {}
        }
      ]
    },
    {
      "cell_type": "code",
      "source": [],
      "metadata": {
        "id": "Rmu6jd_2fmRF"
      },
      "execution_count": null,
      "outputs": []
    }
  ]
}